{
 "cells": [
  {
   "cell_type": "code",
   "execution_count": null,
   "metadata": {},
   "outputs": [],
   "source": [
    "import pandas as pd\n",
    "import numpy as np\n",
    "from io import BytesIO\n",
    "\n",
    "from tensorflow.keras.models import load_model\n",
    "import plotly.graph_objects as go\n",
    "from datetime import datetime, timedelta"
   ]
  },
  {
   "cell_type": "code",
   "execution_count": null,
   "metadata": {},
   "outputs": [],
   "source": [
    "import TrafficJamPrediction as TrafficJamPrediction"
   ]
  },
  {
   "cell_type": "markdown",
   "metadata": {},
   "source": [
    "## Download the saved model and load"
   ]
  },
  {
   "cell_type": "code",
   "execution_count": null,
   "metadata": {},
   "outputs": [],
   "source": [
    "model = load_model('../api/app/model/bemobile-model.h5')"
   ]
  },
  {
   "cell_type": "code",
   "execution_count": null,
   "metadata": {},
   "outputs": [],
   "source": [
    "X_test_conv, X_test_val = process_numpy(dataset)"
   ]
  },
  {
   "cell_type": "code",
   "execution_count": null,
   "metadata": {},
   "outputs": [],
   "source": [
    "X_test_conv = np.load(\"../api/app/test/X_test_conv.npy\")\n",
    "X_test_val = np.load(\"../api/app/test/X_test_val.npy\")"
   ]
  },
  {
   "cell_type": "code",
   "execution_count": null,
   "metadata": {},
   "outputs": [],
   "source": [
    "df_plot = df.iloc[:900]"
   ]
  },
  {
   "cell_type": "code",
   "execution_count": null,
   "metadata": {},
   "outputs": [],
   "source": [
    "X_test_conv_plot = X_test_conv[:1000]\n",
    "X_test_val_plot = X_test_val[:1000]"
   ]
  },
  {
   "cell_type": "code",
   "execution_count": null,
   "metadata": {},
   "outputs": [],
   "source": [
    "predictions_cnn = model.predict([X_test_conv_plot,X_test_val_plot])"
   ]
  },
  {
   "cell_type": "code",
   "execution_count": null,
   "metadata": {},
   "outputs": [],
   "source": [
    "def reshape_to_original(predictions, segments):\n",
    "    predictions_unflattened = np.reshape(predictions, (60, 60) )\n",
    "    predictions_original_shape = tjp.preprocessing.jam_resample_travel_times(np.asarray(predictions_unflattened), segments_size=segments, minutes_size=60)\n",
    "    return predictions_original_shape"
   ]
  },
  {
   "cell_type": "code",
   "execution_count": null,
   "metadata": {},
   "outputs": [],
   "source": [
    "df_plot['predictedTravelSpeeds'] = pd.Series([reshape_to_original(predictions_cnn[i], len(df_plot.iloc[i]['segmentIDs'])) for i in range(len(predictions_cnn)) ])"
   ]
  },
  {
   "cell_type": "code",
   "execution_count": null,
   "metadata": {},
   "outputs": [],
   "source": [
    "df_plot['actualTravelSpeeds.Colors'] = tjp.plotting.dataframe_normalize_speed_to_colors(df_plot, 'optimalTravelSpeeds', 'actualTravelSpeeds')"
   ]
  },
  {
   "cell_type": "code",
   "execution_count": null,
   "metadata": {},
   "outputs": [],
   "source": [
    "df_plot['predictedTravelSpeeds.Colors'] = tjp.plotting.dataframe_normalize_speed_to_colors(df_plot, 'optimalTravelSpeeds', 'predictedTravelSpeeds')"
   ]
  },
  {
   "cell_type": "markdown",
   "metadata": {},
   "source": [
    "## Load in basemap data, this should also be downloaded from the Datastores first"
   ]
  },
  {
   "cell_type": "code",
   "execution_count": null,
   "metadata": {},
   "outputs": [],
   "source": [
    "# Where is the basemap located?\n",
    "basemap = tjp.Basemap({'_directory': '../data/basemap'})"
   ]
  },
  {
   "cell_type": "code",
   "execution_count": null,
   "metadata": {},
   "outputs": [],
   "source": [
    "basemap.load({\n",
    "        'segments': {'index': 'SegmentID'},\n",
    "        'nodes': {'index': 'NodeID'},\n",
    "})"
   ]
  },
  {
   "cell_type": "code",
   "execution_count": null,
   "metadata": {},
   "outputs": [],
   "source": [
    "# Check if they are correctly loaded in\n",
    "basemap.check('segments', 'nodes')"
   ]
  },
  {
   "cell_type": "code",
   "execution_count": null,
   "metadata": {},
   "outputs": [],
   "source": [
    "# Add coordinates next to the plotting segments\n",
    "df_plot['coordinates'] = df_plot.apply(lambda row: tjp.plotting.jam_get_coordinates(basemap, row['segmentIDs']) , axis=1)"
   ]
  },
  {
   "cell_type": "code",
   "execution_count": null,
   "metadata": {},
   "outputs": [],
   "source": [
    "# Create plots\n",
    "\n",
    "def create_plot(plotting, dataframe, idx):\n",
    "    event = dataframe.iloc[idx]\n",
    "    (lons, lats) = list(zip(*event['coordinates']))\n",
    "    \n",
    "    plotting.plotly_subplots(\n",
    "        rows=3, cols=2,\n",
    "        subplot_titles=(\"Comparison of speeds\", \"Meta data of event \" + str(event['eventID']) +\" at timestamp \" + str(event['timestamp']), \"Error of prediction versus actual speed\"),\n",
    "        row_heights=[100, 100, 100],\n",
    "        column_widths=[0.7, 0.3],\n",
    "        specs=[[{\"type\": \"scatter\"}, {\"type\": \"table\", \"rowspan\": 2}],\n",
    "               [{\"type\": \"scatter\"}, None],\n",
    "               [{\"type\": \"mapbox\", \"colspan\": 2}, None]\n",
    "              ],\n",
    "    )\n",
    "    \n",
    "    # Scatter plots\n",
    "    \n",
    "    scatter_layers = [\n",
    "        dict(trace_type='Scatter',x=event['segmentIDs'], y=event['actualTravelSpeeds'][:,30:].T, name='Actual', row=1, col=1),\n",
    "        dict(trace_type='Scatter',x=event['segmentIDs'], y=event['predictedTravelSpeeds'].T, name='Predicted', row=1, col=1, fillcolor=\"red\"),\n",
    "        dict(trace_type='Scatter',x=event['segmentIDs'], y=np.asarray(event['optimalTravelSpeeds']).astype(int), name='Optimal', row=1, col=1, fillcolor=\"green\", line=dict(color='green', width=2, dash='dash')),\n",
    "        dict(trace_type='Scatter',x=event['segmentIDs'], y=event['predictedTravelSpeeds'].T - event['actualTravelSpeeds'][:,30:].T, name='Error', row=2, col=1, fillcolor=\"purple\"),\n",
    "    ]\n",
    "    \n",
    "\n",
    "    for layer in scatter_layers:\n",
    "        plotting.plotly(**layer)\n",
    "    \n",
    "    \n",
    "    plotting.figure.update_xaxes( \n",
    "        nticks=20,\n",
    "        title_text='Segments',\n",
    "        type='category',\n",
    "    )\n",
    "    plotting.figure.update_yaxes(\n",
    "        title_text='Speed in km/h',\n",
    "    )\n",
    "    \n",
    "    \n",
    "    \n",
    "    for km in tjp.utils.segments_per_kilometer(lengths = event['lengths'], only_indices=True)[1:]:\n",
    "        plotting.figure.update_layout(\n",
    "                # Line Vertical\n",
    "                shapes=[dict(\n",
    "                    type=\"line\",\n",
    "                    xref='x', yref='y',\n",
    "                    x0=event['segmentIDs'][km], x1=event['segmentIDs'][km],\n",
    "                    y0=0, y1=125,\n",
    "                    line=dict(\n",
    "                        color=\"black\",\n",
    "                        width=1,\n",
    "                    )\n",
    "                )]\n",
    "        )\n",
    "    \n",
    "    # Tables\n",
    "    plotting.plotly_table(\n",
    "        header = {\n",
    "            'values': ['<b>Field</b>', '<b>Values</b>'],\n",
    "        },\n",
    "        cells = {\n",
    "            'values': [\n",
    "                ['eventID', 'timestamp', 'roadClass', 'dayOfWeek', 'weekend', 'Segments In Jam', 'Length of jam in mms', 'Junctions in Jam', 'Distance to previous junction', 'Distance to next junction'],\n",
    "                [*event[['eventID', 'timestamp', 'roadClass', 'dayOfWeek', 'weekend']], len(event['segmentIDs']), np.sum(event['lengths']), *event['junctions']]\n",
    "            ],\n",
    "        },\n",
    "        row = 1,\n",
    "        col = 2\n",
    "    )\n",
    "\n",
    "    \n",
    "    ## Mapbox preperations\n",
    "    travel_speeds = event['actualTravelSpeeds'].T[30:]\n",
    "    colors = event['actualTravelSpeeds.Colors'].T[30:] - 0.01 # We remove 0.01 because we mapped 1 for White. Black is 0.99. Plotly does not allow for color scales beyond [0,1]\n",
    "    prediction_travel_speeds = event['predictedTravelSpeeds'].T\n",
    "    prediction_colors = event['predictedTravelSpeeds.Colors'].T - 0.01\n",
    "    layers = {\n",
    "        'speed': [travel_speeds, np.ones(travel_speeds.shape), prediction_travel_speeds],\n",
    "        'colors': [colors, np.ones(colors.shape), prediction_colors],\n",
    "        'hover_texts': [\"Actual Speed: %{text:.3f} km/h\", \"Border\", \"Prediction Speed: %{text:.3f} km/h\"],\n",
    "        'show_legend': [True, False, False]\n",
    "    }\n",
    "    \n",
    "    ## PLotly Mapbox\n",
    "    mapbox_frames = plotting.plotly_mapbox_frames(layers, f\"Traffic jam {event['eventID']}\", idx, event['coordinates'])\n",
    "    plotting.plotly_mapbox(mapbox_frames, row=3, col=1)\n",
    "    plotting.plotly_mapbox_init(mapbox={'domain': {'x': [0, 1], 'y': [0, 0.25]}, 'center': go.layout.mapbox.Center(lat=np.median(lats), lon=np.median(lons))})\n",
    "    \n",
    "    ## Animations\n",
    "    layout_kwargs = [\n",
    "        { 'title_text': f\"Speed predictions of event {event['eventID']} at timestamp {str(event['timestamp'] + timedelta(minutes=i + 1))} (minute {str(i + 1)} )\"}\n",
    "    for i in range(0, 60)]\n",
    "    \n",
    "    scatter_frames = plotting.plotly_scatter_frames([scatter_layers[i] for i in [0, 1, 3]], 60)\n",
    "    frames = np.concatenate((scatter_frames, np.asarray(mapbox_frames)[:, [0, 2]]), axis=1)\n",
    "    \n",
    "    plotting.plotly_add_frames(frames, [0, 1, 3, 5, 7], layout_kwargs)\n",
    "    plotting.plotly_add_buttons()\n",
    "    \n",
    "    plotting.figure.update_layout(height=1000, hovermode='x unified')\n",
    "    \n",
    "    return plotting.figure"
   ]
  },
  {
   "cell_type": "code",
   "execution_count": null,
   "metadata": {},
   "outputs": [],
   "source": [
    "mapbox_access_token = open(\".mapbox-token\").read()\n",
    "plotting = tjp.plotting.Plotting(mapbox_access_token)"
   ]
  },
  {
   "cell_type": "code",
   "execution_count": null,
   "metadata": {},
   "outputs": [],
   "source": [
    "create_plot(plotting, df_plot, 0)"
   ]
  },
  {
   "cell_type": "markdown",
   "metadata": {},
   "source": [
    "## Create an API for this"
   ]
  },
  {
   "cell_type": "code",
   "execution_count": null,
   "metadata": {},
   "outputs": [],
   "source": [
    "## In the API, you should be able to select a new sample from the dataset, process it and return the plot."
   ]
  },
  {
   "cell_type": "markdown",
   "metadata": {},
   "source": [
    "## Deploy this API to the cloud"
   ]
  },
  {
   "cell_type": "code",
   "execution_count": null,
   "metadata": {},
   "outputs": [],
   "source": []
  }
 ],
 "metadata": {
  "kernelspec": {
   "name": "Python 3.8.0 64-bit ('bemobile': conda)",
   "display_name": "Python 3.8.0 64-bit ('bemobile': conda)",
   "metadata": {
    "interpreter": {
     "hash": "da0f35f1f4de0055efc51ce397eae1cba463a758c5895d4c71cbc83f26696224"
    }
   }
  },
  "language_info": {
   "codemirror_mode": {
    "name": "ipython",
    "version": 3
   },
   "file_extension": ".py",
   "mimetype": "text/x-python",
   "name": "python",
   "nbconvert_exporter": "python",
   "pygments_lexer": "ipython3",
   "version": "3.8.0-final"
  }
 },
 "nbformat": 4,
 "nbformat_minor": 2
}