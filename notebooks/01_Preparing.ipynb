{
 "cells": [
  {
   "cell_type": "markdown",
   "metadata": {},
   "source": [
    "# Bemobile"
   ]
  },
  {
   "cell_type": "code",
   "execution_count": null,
   "metadata": {},
   "outputs": [],
   "source": [
    "import pandas as pd\n",
    "import numpy as np"
   ]
  },
  {
   "cell_type": "code",
   "execution_count": null,
   "metadata": {},
   "outputs": [],
   "source": [
    "import itertools\n",
    "import logging\n",
    "import math"
   ]
  },
  {
   "cell_type": "code",
   "execution_count": null,
   "metadata": {},
   "outputs": [],
   "source": [
    "logging.basicConfig()\n",
    "logging.getLogger().setLevel(logging.DEBUG)"
   ]
  },
  {
   "cell_type": "markdown",
   "metadata": {},
   "source": [
    "## Reading in data"
   ]
  },
  {
   "cell_type": "code",
   "execution_count": null,
   "metadata": {},
   "outputs": [],
   "source": [
    "# This is a subset of the complete dataset, the original dataset contains 880k rows, which is too much for a normal CPU machine to process.\n",
    "# You can be provided with more data if your model requires that, and if your machines can handle it.\n",
    "df = pd.read_pickle('../data/dataframe.pkl')"
   ]
  },
  {
   "cell_type": "code",
   "execution_count": null,
   "metadata": {},
   "outputs": [],
   "source": [
    "df.shape"
   ]
  },
  {
   "cell_type": "code",
   "execution_count": null,
   "metadata": {},
   "outputs": [],
   "source": [
    "def sincostime(timestamp):\n",
    "    return [np.cos((timestamp.hour * 60 + timestamp.minute) / 60 / 24 * 2 * 3.141592), np.sin((timestamp.hour * 60 + timestamp.minute) / 60 / 24 * 2 * 3.141592)]"
   ]
  },
  {
   "cell_type": "code",
   "execution_count": null,
   "metadata": {},
   "outputs": [],
   "source": [
    "import cv2\n",
    "def jam_resample_travel_times(travel_times, segments_size=60, minutes_size=90):\n",
    "    return cv2.resize(travel_times, dsize=(minutes_size, segments_size))"
   ]
  },
  {
   "cell_type": "code",
   "execution_count": null,
   "metadata": {},
   "outputs": [],
   "source": [
    "def prepare_data(df, train = True):\n",
    "        X = []\n",
    "        y = []\n",
    "\n",
    "        if train:\n",
    "            df_range = range(round(df.shape[0] * 0.8)) # 80% Train\n",
    "        else:\n",
    "            df_range = range(round(df.shape[0] * 0.8), df.shape[0]) # 20% test\n",
    "        \n",
    "        for idx, sample in df.iloc[df_range].iterrows():\n",
    "            xsample = \\\n",
    "            np.asarray([sample.dayOfWeek, *sincostime(sample.timestamp), sample.weekend, *sample.junctions,\\\n",
    "                        *jam_resample_travel_times(np.asarray(sample.actualTravelSpeeds).astype('float64'))[:,:30].flatten(), \\\n",
    "                        *jam_resample_travel_times(np.asarray(sample.optimalTravelSpeeds).astype('float64'))[:,0].flatten(), \\\n",
    "                        sample.roadClass, sum(sample.lengths)/100000])\n",
    "\n",
    "            ysample = \\\n",
    "            np.asarray([*jam_resample_travel_times(np.asarray(sample.actualTravelSpeeds).astype('float64'))[:,30:].flatten()])\n",
    "            \n",
    "\n",
    "            X.append(xsample)\n",
    "            y.append(ysample)\n",
    "            if len(y) % 500 == 0:\n",
    "                logging.debug(f\"Already processed {len(y)} samples!\")\n",
    "        \n",
    "        logging.debug(f\"Converting to Numpy arrays!\")\n",
    "        X = np.asarray(X)\n",
    "        y = np.asarray(y)\n",
    "                \n",
    "        return (X, y)"
   ]
  },
  {
   "cell_type": "code",
   "execution_count": null,
   "metadata": {},
   "outputs": [],
   "source": [
    "X_train, y_train = prepare_data(df, train = True)"
   ]
  },
  {
   "cell_type": "code",
   "execution_count": null,
   "metadata": {},
   "outputs": [],
   "source": [
    "X_test, y_test = prepare_data(df, train = False)"
   ]
  },
  {
   "cell_type": "code",
   "execution_count": null,
   "metadata": {},
   "outputs": [],
   "source": [
    "# The model that we will train is quite special, so we have to split the data a little bit. We have Convolutional data and Sequential data\n",
    "\n",
    "X_train_conv = np.reshape(X_train[:,7:1867],(-1,60,31,1)) # a Square representation of 60 segments, 30 minutes of \"ActualSpeeds\" and 1 minute of \"OptimalSpeeds\"\n",
    "X_train_val = np.concatenate((X_train[:,:7],X_train[:,1867:]),axis = 1) # The rest of the data\n",
    "X_test_conv = np.reshape(X_test[:,7:1867],(-1,60,31,1)) # a Square representation of 60 segments, 30 minutes of \"ActualSpeeds\" and 1 minute of \"OptimalSpeeds\"\n",
    "X_test_val = np.concatenate((X_test[:,:7],X_test[:,1867:]),axis = 1) # The rest of the data"
   ]
  },
  {
   "cell_type": "code",
   "execution_count": null,
   "metadata": {},
   "outputs": [],
   "source": []
  },
  {
   "cell_type": "code",
   "execution_count": null,
   "metadata": {},
   "outputs": [],
   "source": [
    "# This is a subset of the dataframe which you will use to test your model and use the test results\n",
    "df_test = df.iloc[range(round(df.shape[0] * 0.8), df.shape[0])]"
   ]
  },
  {
   "cell_type": "code",
   "execution_count": null,
   "metadata": {},
   "outputs": [],
   "source": [
    "df_test.to_pickle('../data/train-test/test-dataframe.pkl')"
   ]
  },
  {
   "cell_type": "code",
   "execution_count": null,
   "metadata": {},
   "outputs": [],
   "source": [
    "# np.save('../data/train-test/X_train.npy', X_train)\n",
    "np.save('../data/train-test/y_train.npy', y_train)\n",
    "# np.save('../data/train-test/X_test.npy', X_test)\n",
    "np.save('../data/train-test/y_test.npy', y_test)"
   ]
  },
  {
   "cell_type": "code",
   "execution_count": null,
   "metadata": {},
   "outputs": [],
   "source": [
    "np.save('../data/train-test/X_train_conv.npy', X_train_conv)\n",
    "np.save('../data/train-test/X_train_val.npy', X_train_val)\n",
    "np.save('../data/train-test/X_test_conv.npy', X_test_conv)\n",
    "np.save('../data/train-test/X_test_val.npy', X_test_val)"
   ]
  },
  {
   "cell_type": "markdown",
   "metadata": {},
   "source": [
    "## Upload this dataset to the cloud"
   ]
  },
  {
   "cell_type": "code",
   "execution_count": null,
   "metadata": {},
   "outputs": [],
   "source": []
  },
  {
   "cell_type": "markdown",
   "metadata": {},
   "source": [
    "## Make sure this file is executable in one run"
   ]
  },
  {
   "cell_type": "code",
   "execution_count": null,
   "metadata": {},
   "outputs": [],
   "source": []
  }
 ],
 "metadata": {
  "kernelspec": {
   "display_name": "Python [conda env:04_Bemobile]",
   "language": "python",
   "name": "conda-env-04_Bemobile-py"
  },
  "language_info": {
   "codemirror_mode": {
    "name": "ipython",
    "version": 3
   },
   "file_extension": ".py",
   "mimetype": "text/x-python",
   "name": "python",
   "nbconvert_exporter": "python",
   "pygments_lexer": "ipython3",
   "version": "3.8.0"
  }
 },
 "nbformat": 4,
 "nbformat_minor": 2
}
