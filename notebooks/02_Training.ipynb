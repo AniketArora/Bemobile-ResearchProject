{
 "cells": [
  {
   "cell_type": "markdown",
   "metadata": {},
   "source": [
    "# Bemobile"
   ]
  },
  {
   "cell_type": "code",
   "execution_count": null,
   "metadata": {},
   "outputs": [],
   "source": [
    "import pandas as pd\n",
    "import numpy as np\n",
    "import matplotlib.pyplot as plt\n",
    "\n",
    "import time\n",
    "from datetime import datetime\n",
    "import keras\n",
    "from keras import initializers, regularizers\n",
    "from keras.models import Sequential, Model\n",
    "from keras.layers import Dense, Activation, Dropout, BatchNormalization, Flatten, Input, concatenate\n",
    "\n",
    "from keras.layers.convolutional import Conv2D, MaxPooling2D, AveragePooling2D\n",
    "import keras.backend as K\n"
   ]
  },
  {
   "cell_type": "markdown",
   "metadata": {},
   "source": [
    "## Download data from the cloud and load"
   ]
  },
  {
   "cell_type": "code",
   "execution_count": null,
   "metadata": {},
   "outputs": [],
   "source": [
    "# X_train = np.load(\"../data/train-test/X_train.npy\")\n",
    "y_train = np.load(\"../data/train-test/y_train.npy\")\n",
    "# X_test = np.load(\"../data/train-test/X_test.npy\")\n",
    "y_test = np.load(\"../data/train-test/y_test.npy\")\n",
    "X_train_conv = np.load(\"../data/train-test/X_train_conv.npy\")\n",
    "X_train_val = np.load(\"../data/train-test/X_train_val.npy\")\n",
    "X_test_conv = np.load(\"../data/train-test/X_test_conv.npy\")\n",
    "X_test_val = np.load(\"../data/train-test/X_test_val.npy\")"
   ]
  },
  {
   "cell_type": "code",
   "execution_count": null,
   "metadata": {},
   "outputs": [],
   "source": [
    "def conv_model(data, **params):\n",
    "    '''\n",
    "    parameters:\n",
    "    conv_layers: array with number of convolutions (length is number of layers)\n",
    "    maxpooling: 1 for maxpooling, 0 for AveragePooling2D \n",
    "    poolsize: array with poolsizes (length is number of layers)\n",
    "    conv_dense: array with number of dense elements after the conv part (length is number of layers)\n",
    "    val_dense: array with number of dense elements for the metadata part (length is number of layers)\n",
    "    comb_dense: array with number of dense elements for the combined part (length is number of layers)\n",
    "    dropout: dropout parameter used equally everywhere (only with dense)\n",
    "    epochs: epochs to train\n",
    "    '''\n",
    "    (X_train_conv, X_train_val, y_train, X_test_conv, X_train_val, y_test) = data\n",
    "    # define two sets of inputs\n",
    "    \n",
    "    X_conv = Input(shape=(60,31,1,))\n",
    "    X_data = Input(shape=(9,))\n",
    "    \n",
    "    f=15\n",
    "    chanDim = -1\n",
    "    \n",
    "    dropout = params['dropout']\n",
    "    \n",
    "    #### X\n",
    "    conv_size = params['conv_layers'][0]\n",
    "    pool_size = params['pool_size'][0]\n",
    "    \n",
    "    x = Conv2D(f, conv_size, padding=\"same\")(X_conv)\n",
    "    x = BatchNormalization(axis=chanDim)(x)\n",
    "    x = Activation(\"relu\")(x)\n",
    "    x = MaxPooling2D(pool_size=pool_size)(x) if params['maxpooling'] \\\n",
    "    else AveragePooling2D(pool_size=pool_size)(x)\n",
    "\n",
    "    for i in range(1, len(params['conv_layers'])):\n",
    "        conv_size = params['conv_layers'][i]\n",
    "        pool = params['pool_size'][i]\n",
    "\n",
    "        x = Conv2D(f, conv_size, padding=\"same\")(X_conv)\n",
    "        x = BatchNormalization(axis=chanDim)(x)\n",
    "        x = Activation(\"relu\")(x)\n",
    "        x = MaxPooling2D(pool_size=pool_size)(x) if params['maxpooling'] \\\n",
    "        else AveragePooling2D(pool_size=pool_size)(x)\n",
    "    \n",
    "    x = Flatten()(x)\n",
    "    for i in range(len(params['conv_dense'])):\n",
    "        dense_size = params['conv_dense'][i]\n",
    "        \n",
    "        x = Dense(dense_size)(x)\n",
    "        x = BatchNormalization(axis=chanDim)(x)\n",
    "        x = Activation(\"relu\")(x)\n",
    "        x = Dropout(dropout)(x)\n",
    "        \n",
    "    x = Model(inputs=X_conv, outputs=x)\n",
    "\n",
    "    #### Y\n",
    "    dense_size = params['val_dense'][0]\n",
    "    y = Dense(dense_size, activation=\"relu\")(X_data)\n",
    "    y = BatchNormalization()(y)\n",
    "    y = Activation(\"relu\")(y)\n",
    "    \n",
    "    for i in range(1, len(params['val_dense'])):\n",
    "        dense_size = params['val_dense'][i]\n",
    "        \n",
    "        y = Dense(dense_size)(y)\n",
    "        y = BatchNormalization()(y)\n",
    "        y = Activation(\"relu\")(y)\n",
    "        y = Dropout(dropout)(y)\n",
    "\n",
    "    y = Model(inputs=X_data, outputs=y)\n",
    "\n",
    "    #### Z\n",
    "    # combine the output of the two branches\n",
    "    combined = concatenate([x.output, y.output])\n",
    "    # apply a FC layer and then a regression prediction on the\n",
    "    # combined outputs\n",
    "    \n",
    "    dense_size = params['comb_dense'][0]\n",
    "    z = Dense(dense_size, activation=\"relu\")(combined)\n",
    "    z = BatchNormalization()(z)\n",
    "    z = Activation(\"relu\")(z)\n",
    "    for i in range(len(params['comb_dense'])-1):\n",
    "        densesize = params['comb_dense'][i+1]\n",
    "        \n",
    "        z = Dense(dense_size)(z)\n",
    "        z = BatchNormalization()(z)\n",
    "        z = Activation(\"relu\")(z)\n",
    "        z = Dropout(dropout)(z)\n",
    "    \n",
    "\n",
    "    z = Dense(3600, activation=\"linear\")(z)\n",
    "    \n",
    "    model = Model(inputs=[x.input, y.input], outputs=z)\n",
    "    \n",
    "    model.compile(optimizer=keras.optimizers.Adam(lr=0.001),loss='mse')    \n",
    "    \n",
    "    return model"
   ]
  },
  {
   "cell_type": "code",
   "execution_count": null,
   "metadata": {},
   "outputs": [],
   "source": [
    "params = {'conv_layers': [(10, 10), (10, 10), (5, 5)],\n",
    "'maxpooling': False,\n",
    "'pool_size': [(2, 2), (2, 2), (3, 3)],\n",
    "'conv_dense': [1200, 800],\n",
    "'val_dense': [10, 8],\n",
    "'comb_dense': [1500],\n",
    "'dropout': 0.15,\n",
    "'epochs': 20} "
   ]
  },
  {
   "cell_type": "code",
   "execution_count": null,
   "metadata": {},
   "outputs": [],
   "source": [
    "data = [X_train_conv, X_train_val, y_train, X_test_conv, X_train_val, y_test]"
   ]
  },
  {
   "cell_type": "code",
   "execution_count": null,
   "metadata": {},
   "outputs": [],
   "source": [
    "model = conv_model(data, **params)"
   ]
  },
  {
   "cell_type": "code",
   "execution_count": null,
   "metadata": {},
   "outputs": [],
   "source": [
    "history_callback = model.fit(\n",
    "    x=[X_train_conv, X_train_val],\n",
    "    y=y_train,\n",
    "    validation_data = ([X_test_conv, X_test_val], y_test),\n",
    "    epochs = params['epochs'],\n",
    "    batch_size = 1024,\n",
    "    verbose = 1)"
   ]
  },
  {
   "cell_type": "code",
   "execution_count": null,
   "metadata": {},
   "outputs": [],
   "source": [
    "plt.figure(figsize=(15,10))\n",
    "plt.plot(history_callback.history['loss'],label = 'train loss')\n",
    "plt.plot(history_callback.history['val_loss'], label = 'validation loss')\n",
    "plt.legend()\n",
    "plt.show()"
   ]
  },
  {
   "cell_type": "code",
   "execution_count": null,
   "metadata": {},
   "outputs": [],
   "source": [
    "import os"
   ]
  },
  {
   "cell_type": "code",
   "execution_count": null,
   "metadata": {},
   "outputs": [],
   "source": [
    "os.mkdir('../snapshots')"
   ]
  },
  {
   "cell_type": "code",
   "execution_count": null,
   "metadata": {},
   "outputs": [],
   "source": [
    "model.save(\"../snapshots/bemobile-model.h5\")"
   ]
  },
  {
   "cell_type": "markdown",
   "metadata": {},
   "source": [
    "## Upload this model to the cloud"
   ]
  },
  {
   "cell_type": "code",
   "execution_count": null,
   "metadata": {},
   "outputs": [],
   "source": []
  },
  {
   "cell_type": "markdown",
   "metadata": {},
   "source": [
    "## Make sure this file is executable in one run"
   ]
  },
  {
   "cell_type": "code",
   "execution_count": null,
   "metadata": {},
   "outputs": [],
   "source": []
  }
 ],
 "metadata": {
  "kernelspec": {
   "display_name": "Python [conda env:04_Bemobile]",
   "language": "python",
   "name": "conda-env-04_Bemobile-py"
  },
  "language_info": {
   "codemirror_mode": {
    "name": "ipython",
    "version": 3
   },
   "file_extension": ".py",
   "mimetype": "text/x-python",
   "name": "python",
   "nbconvert_exporter": "python",
   "pygments_lexer": "ipython3",
   "version": "3.8.0"
  }
 },
 "nbformat": 4,
 "nbformat_minor": 2
}
